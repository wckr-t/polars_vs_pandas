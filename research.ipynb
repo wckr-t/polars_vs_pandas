{
 "cells": [
  {
   "cell_type": "code",
   "execution_count": 1,
   "id": "a5d3be20-cd57-45da-bb5f-6fd110a54473",
   "metadata": {},
   "outputs": [],
   "source": [
    "import polars as pl\n",
    "import pandas as pd\n",
    "import matplotlib.pyplot as plt\n",
    "import numpy as np\n",
    "import time"
   ]
  },
  {
   "cell_type": "code",
   "execution_count": 2,
   "id": "82d1c139-a572-4de5-8e37-d0ac5c08b244",
   "metadata": {},
   "outputs": [],
   "source": [
    "file_path = \"Retail_Transactions_Dataset.csv\""
   ]
  },
  {
   "cell_type": "code",
   "execution_count": null,
   "id": "1737b68a-9c31-4627-98c4-2b1fdf9799d7",
   "metadata": {},
   "outputs": [],
   "source": []
  },
  {
   "cell_type": "markdown",
   "id": "509f21c5-2ab8-4f24-a0a2-cd35f5e35a34",
   "metadata": {},
   "source": [
    "###  1. Reading Speed: CSV Loading"
   ]
  },
  {
   "cell_type": "code",
   "execution_count": 3,
   "id": "46b7f497-f787-4b24-ac25-1e3ec506fffb",
   "metadata": {},
   "outputs": [
    {
     "name": "stdout",
     "output_type": "stream",
     "text": [
      "Pandas load time: 1.32s\n",
      "Polars load time: 0.09s\n"
     ]
    }
   ],
   "source": [
    "start = time.time()\n",
    "df_pandas = pd.read_csv(file_path)\n",
    "pandas_time = time.time() - start\n",
    "\n",
    "\n",
    "start = time.time()\n",
    "df_polars = pl.read_csv(file_path)\n",
    "polars_time = time.time() - start\n",
    "\n",
    "print(f\"Pandas load time: {pandas_time:.2f}s\")\n",
    "print(f\"Polars load time: {polars_time:.2f}s\")"
   ]
  },
  {
   "cell_type": "code",
   "execution_count": 14,
   "id": "f5660ccf-7af7-46b6-a745-801e5adb3789",
   "metadata": {
    "scrolled": true
   },
   "outputs": [
    {
     "name": "stdout",
     "output_type": "stream",
     "text": [
      "CSV File Information:\n",
      "Number of rows: 1000000\n",
      "Number of columns: 13\n",
      "\n",
      "Column Names and Data Types:\n",
      "Schema({'Transaction_ID': Int64, 'Date': String, 'Customer_Name': String, 'Product': String, 'Total_Items': Int64, 'Total_Cost': Float64, 'Payment_Method': String, 'City': String, 'Store_Type': String, 'Discount_Applied': Boolean, 'Customer_Category': String, 'Season': String, 'Promotion': String})\n",
      "\n",
      "First 5 Rows of the DataFrame:\n",
      "shape: (5, 13)\n",
      "┌────────────┬────────────┬───────────┬───────────┬───┬───────────┬───────────┬────────┬───────────┐\n",
      "│ Transactio ┆ Date       ┆ Customer_ ┆ Product   ┆ … ┆ Discount_ ┆ Customer_ ┆ Season ┆ Promotion │\n",
      "│ n_ID       ┆ ---        ┆ Name      ┆ ---       ┆   ┆ Applied   ┆ Category  ┆ ---    ┆ ---       │\n",
      "│ ---        ┆ str        ┆ ---       ┆ str       ┆   ┆ ---       ┆ ---       ┆ str    ┆ str       │\n",
      "│ i64        ┆            ┆ str       ┆           ┆   ┆ bool      ┆ str       ┆        ┆           │\n",
      "╞════════════╪════════════╪═══════════╪═══════════╪═══╪═══════════╪═══════════╪════════╪═══════════╡\n",
      "│ 1000000000 ┆ 2022-01-21 ┆ Stacey    ┆ ['Ketchup ┆ … ┆ true      ┆ Homemaker ┆ Winter ┆ None      │\n",
      "│            ┆ 06:27:29   ┆ Price     ┆ ',        ┆   ┆           ┆           ┆        ┆           │\n",
      "│            ┆            ┆           ┆ 'Shaving  ┆   ┆           ┆           ┆        ┆           │\n",
      "│            ┆            ┆           ┆ Cream',   ┆   ┆           ┆           ┆        ┆           │\n",
      "│            ┆            ┆           ┆ '…        ┆   ┆           ┆           ┆        ┆           │\n",
      "│ 1000000001 ┆ 2023-03-01 ┆ Michelle  ┆ ['Ice     ┆ … ┆ true      ┆ Professio ┆ Fall   ┆ BOGO (Buy │\n",
      "│            ┆ 13:01:21   ┆ Carlson   ┆ Cream',   ┆   ┆           ┆ nal       ┆        ┆ One Get   │\n",
      "│            ┆            ┆           ┆ 'Milk',   ┆   ┆           ┆           ┆        ┆ One)      │\n",
      "│            ┆            ┆           ┆ 'Olive O… ┆   ┆           ┆           ┆        ┆           │\n",
      "│ 1000000002 ┆ 2024-03-21 ┆ Lisa      ┆ ['Spinach ┆ … ┆ true      ┆ Professio ┆ Winter ┆ None      │\n",
      "│            ┆ 15:37:04   ┆ Graves    ┆ ']        ┆   ┆           ┆ nal       ┆        ┆           │\n",
      "│ 1000000003 ┆ 2020-10-31 ┆ Mrs.      ┆ ['Tissues ┆ … ┆ true      ┆ Homemaker ┆ Spring ┆ None      │\n",
      "│            ┆ 09:59:47   ┆ Patricia  ┆ ', 'Musta ┆   ┆           ┆           ┆        ┆           │\n",
      "│            ┆            ┆ May       ┆ rd']      ┆   ┆           ┆           ┆        ┆           │\n",
      "│ 1000000004 ┆ 2020-12-10 ┆ Susan     ┆ ['Dish    ┆ … ┆ false     ┆ Young     ┆ Winter ┆ Discount  │\n",
      "│            ┆ 00:59:59   ┆ Mitchell  ┆ Soap']    ┆   ┆           ┆ Adult     ┆        ┆ on        │\n",
      "│            ┆            ┆           ┆           ┆   ┆           ┆           ┆        ┆ Selected  │\n",
      "│            ┆            ┆           ┆           ┆   ┆           ┆           ┆        ┆ Items     │\n",
      "└────────────┴────────────┴───────────┴───────────┴───┴───────────┴───────────┴────────┴───────────┘\n",
      "\n",
      "DataFrame Summary Statistics:\n",
      "shape: (9, 14)\n",
      "┌────────────┬───────────┬───────────┬───────────┬───┬───────────┬───────────┬─────────┬───────────┐\n",
      "│ statistic  ┆ Transacti ┆ Date      ┆ Customer_ ┆ … ┆ Discount_ ┆ Customer_ ┆ Season  ┆ Promotion │\n",
      "│ ---        ┆ on_ID     ┆ ---       ┆ Name      ┆   ┆ Applied   ┆ Category  ┆ ---     ┆ ---       │\n",
      "│ str        ┆ ---       ┆ str       ┆ ---       ┆   ┆ ---       ┆ ---       ┆ str     ┆ str       │\n",
      "│            ┆ f64       ┆           ┆ str       ┆   ┆ f64       ┆ str       ┆         ┆           │\n",
      "╞════════════╪═══════════╪═══════════╪═══════════╪═══╪═══════════╪═══════════╪═════════╪═══════════╡\n",
      "│ count      ┆ 1e6       ┆ 1000000   ┆ 1000000   ┆ … ┆ 1e6       ┆ 1000000   ┆ 1000000 ┆ 1000000   │\n",
      "│ null_count ┆ 0.0       ┆ 0         ┆ 0         ┆ … ┆ 0.0       ┆ 0         ┆ 0       ┆ 0         │\n",
      "│ mean       ┆ 1.0005e9  ┆ null      ┆ null      ┆ … ┆ 0.500104  ┆ null      ┆ null    ┆ null      │\n",
      "│ std        ┆ 288675.27 ┆ null      ┆ null      ┆ … ┆ null      ┆ null      ┆ null    ┆ null      │\n",
      "│            ┆ 8932      ┆           ┆           ┆   ┆           ┆           ┆         ┆           │\n",
      "│ min        ┆ 1.0000e9  ┆ 2020-01-0 ┆ Aaron     ┆ … ┆ 0.0       ┆ Homemaker ┆ Fall    ┆ BOGO (Buy │\n",
      "│            ┆           ┆ 1         ┆ Acevedo   ┆   ┆           ┆           ┆         ┆ One Get   │\n",
      "│            ┆           ┆ 00:03:54  ┆           ┆   ┆           ┆           ┆         ┆ One)      │\n",
      "│ 25%        ┆ 1.0002e9  ┆ null      ┆ null      ┆ … ┆ null      ┆ null      ┆ null    ┆ null      │\n",
      "│ 50%        ┆ 1.0005e9  ┆ null      ┆ null      ┆ … ┆ null      ┆ null      ┆ null    ┆ null      │\n",
      "│ 75%        ┆ 1.0007e9  ┆ null      ┆ null      ┆ … ┆ null      ┆ null      ┆ null    ┆ null      │\n",
      "│ max        ┆ 1.0010e9  ┆ 2024-05-1 ┆ Zoe York  ┆ … ┆ 1.0       ┆ Young     ┆ Winter  ┆ None      │\n",
      "│            ┆           ┆ 8         ┆           ┆   ┆           ┆ Adult     ┆         ┆           │\n",
      "│            ┆           ┆ 19:31:03  ┆           ┆   ┆           ┆           ┆         ┆           │\n",
      "└────────────┴───────────┴───────────┴───────────┴───┴───────────┴───────────┴─────────┴───────────┘\n"
     ]
    }
   ],
   "source": [
    "# Display brief information about the CSV file\n",
    "print(\"CSV File Information:\")\n",
    "print(f\"Number of rows: {df_polars.height}\")\n",
    "print(f\"Number of columns: {df_polars.width}\")\n",
    "print(\"\\nColumn Names and Data Types:\")\n",
    "print(df_polars.schema)  # Display column names and their data types\n",
    "print(\"\\nFirst 5 Rows of the DataFrame:\")\n",
    "print(df_polars.head(5))  # Display the first 5 rows\n",
    "\n",
    "# Additional summary statistics\n",
    "print(\"\\nDataFrame Summary Statistics:\")\n",
    "print(df_polars.describe())"
   ]
  },
  {
   "cell_type": "markdown",
   "id": "67a167cc-2e3c-4ef7-a241-b960740b79f4",
   "metadata": {},
   "source": [
    "### 2. Filtering Rows Based on Conditions"
   ]
  },
  {
   "cell_type": "code",
   "execution_count": 5,
   "id": "c8616436-323b-43d2-8da1-6efa94d76db7",
   "metadata": {},
   "outputs": [
    {
     "name": "stdout",
     "output_type": "stream",
     "text": [
      "Pandas filter time: 0.0046s\n",
      "Polars filter time: 0.0311s\n"
     ]
    }
   ],
   "source": [
    "start = time.time()\n",
    "filtered_pandas = df_pandas[df_pandas['Total_Cost'] > 500]\n",
    "pandas_filter_time = time.time() - start\n",
    "\n",
    "start = time.time()\n",
    "filtered_polars = df_polars.filter(pl.col(\"Total_Cost\") > 500)\n",
    "polars_filter_time = time.time() - start\n",
    "\n",
    "print(f\"Pandas filter time: {pandas_filter_time:.4f}s\")\n",
    "print(f\"Polars filter time: {polars_filter_time:.4f}s\")\n"
   ]
  },
  {
   "cell_type": "markdown",
   "id": "0ae275da-1bff-4f57-9528-ee0deda45be1",
   "metadata": {},
   "source": [
    "### 3. Aggregations: Group By and Summing"
   ]
  },
  {
   "cell_type": "code",
   "execution_count": 9,
   "id": "d9b24613-cd41-4d94-aae0-ea30262a59ba",
   "metadata": {},
   "outputs": [
    {
     "name": "stdout",
     "output_type": "stream",
     "text": [
      "Pandas groupby time: 0.0749s\n",
      "Polars groupby time: 0.0476s\n"
     ]
    }
   ],
   "source": [
    "start = time.time()\n",
    "grouped_pandas = df_pandas.groupby(\"City\")[\"Total_Cost\"].sum()\n",
    "pandas_groupby_time = time.time() - start\n",
    "\n",
    "start = time.time()\n",
    "grouped_polars = df_polars.group_by(\"City\").agg(pl.col(\"Total_Cost\").sum())\n",
    "polars_groupby_time = time.time() - start\n",
    "\n",
    "\n",
    "print(f\"Pandas groupby time: {pandas_groupby_time:.4f}s\")\n",
    "print(f\"Polars groupby time: {polars_groupby_time:.4f}s\")\n"
   ]
  },
  {
   "cell_type": "markdown",
   "id": "29bcab4c-0973-42b7-bc7e-41b8be4ba36d",
   "metadata": {},
   "source": [
    "### 4. Merging DataFrames"
   ]
  },
  {
   "cell_type": "code",
   "execution_count": 10,
   "id": "e004bb0f-53a5-4694-8bf6-47b9d06fa5e0",
   "metadata": {},
   "outputs": [
    {
     "name": "stdout",
     "output_type": "stream",
     "text": [
      "Pandas merge time: 0.9131s\n",
      "Polars merge time: 0.2701s\n"
     ]
    }
   ],
   "source": [
    "pandas_df1 = df_pandas[[\"Customer_Name\", \"Total_Cost\"]]\n",
    "pandas_df2 = df_pandas[[\"Customer_Name\", \"Total_Items\"]]\n",
    "\n",
    "polars_df1 = df_polars.select([\"Customer_Name\", \"Total_Cost\"])\n",
    "polars_df2 = df_polars.select([\"Customer_Name\", \"Total_Items\"])\n",
    "\n",
    "start = time.time()\n",
    "merged_pandas = pd.merge(pandas_df1, pandas_df2, on=\"Customer_Name\")\n",
    "pandas_merge_time = time.time() - start\n",
    "\n",
    "start = time.time()\n",
    "merged_polars = polars_df1.join(polars_df2, on=\"Customer_Name\")\n",
    "polars_merge_time = time.time() - start\n",
    "\n",
    "print(f\"Pandas merge time: {pandas_merge_time:.4f}s\")\n",
    "print(f\"Polars merge time: {polars_merge_time:.4f}s\")\n"
   ]
  },
  {
   "cell_type": "markdown",
   "id": "900d6b12-a5a1-41f9-a17f-a80479eeb93a",
   "metadata": {},
   "source": [
    "### 5. Memory Usage"
   ]
  },
  {
   "cell_type": "code",
   "execution_count": 11,
   "id": "2f694ed1-3061-4bb0-98c7-961ac59eb41a",
   "metadata": {},
   "outputs": [
    {
     "name": "stdout",
     "output_type": "stream",
     "text": [
      "Pandas memory usage: 564.93 MB\n",
      "Polars memory usage: 150.22 MB\n"
     ]
    }
   ],
   "source": [
    "pandas_memory = df_pandas.memory_usage(deep=True).sum()\n",
    "polars_memory = df_polars.estimated_size()\n",
    "\n",
    "print(f\"Pandas memory usage: {pandas_memory / 1024**2:.2f} MB\")\n",
    "print(f\"Polars memory usage: {polars_memory / 1024**2:.2f} MB\")\n"
   ]
  },
  {
   "cell_type": "markdown",
   "id": "e65e7a4f-a54d-4c76-9bd6-699cd7c297a2",
   "metadata": {},
   "source": [
    "### 6. Writing Data Back to Disk"
   ]
  },
  {
   "cell_type": "code",
   "execution_count": 12,
   "id": "ffbe23e7-ff09-4831-945d-0d3633e3bbf4",
   "metadata": {},
   "outputs": [
    {
     "name": "stdout",
     "output_type": "stream",
     "text": [
      "Pandas write time: 2.23s\n",
      "Polars write time: 0.34s\n"
     ]
    }
   ],
   "source": [
    "start = time.time()\n",
    "df_pandas.to_csv(\"pandas_output.csv\", index=False)\n",
    "pandas_write_time = time.time() - start\n",
    "\n",
    "start = time.time()\n",
    "df_polars.write_csv(\"polars_output.csv\")\n",
    "polars_write_time = time.time() - start\n",
    "\n",
    "print(f\"Pandas write time: {pandas_write_time:.2f}s\")\n",
    "print(f\"Polars write time: {polars_write_time:.2f}s\")\n"
   ]
  },
  {
   "cell_type": "code",
   "execution_count": 13,
   "id": "e468837f-6f62-43d0-8bf4-17c14f3bf0db",
   "metadata": {},
   "outputs": [
    {
     "data": {
      "image/png": "[encoded data removed]",
      "text/plain": [
       "<Figure size 1000x600 with 1 Axes>"
      ]
     },
     "metadata": {},
     "output_type": "display_data"
    }
   ],
   "source": [
    "operations = [\"Reading CSV\", \"Filtering Rows\", \"Group By & Summing\", \"Merging DataFrames\", \"Writing CSV\"]\n",
    "pandas_times = [pandas_time, pandas_filter_time, pandas_groupby_time, pandas_merge_time, pandas_write_time]  \n",
    "polars_times = [polars_time, polars_filter_time, polars_groupby_time, polars_merge_time, polars_write_time]  \n",
    "\n",
    "# Create bar chart\n",
    "x = np.arange(len(operations))\n",
    "width = 0.35\n",
    "\n",
    "fig, ax = plt.subplots(figsize=(10, 6))\n",
    "pandas_bars = ax.bar(x - width / 2, pandas_times, width, label=\"Pandas\", color=\"skyblue\")\n",
    "polars_bars = ax.bar(x + width / 2, polars_times, width, label=\"Polars\", color=\"orange\")\n",
    "\n",
    "ax.set_xlabel(\"Operations\", fontsize=12)\n",
    "ax.set_ylabel(\"Execution Time (seconds)\", fontsize=12)\n",
    "ax.set_title(\"Pandas vs Polars: Performance Comparison\", fontsize=14, weight=\"bold\")\n",
    "ax.set_xticks(x)\n",
    "ax.set_xticklabels(operations, rotation=30, ha=\"right\")\n",
    "ax.legend()\n",
    "\n",
    "\n",
    "for bars in [pandas_bars, polars_bars]:\n",
    "    for bar in bars:\n",
    "        height = bar.get_height()\n",
    "        ax.annotate(f'{height:.2f}',\n",
    "                    xy=(bar.get_x() + bar.get_width() / 2, height),\n",
    "                    xytext=(0, 3),  \n",
    "                    textcoords=\"offset points\",\n",
    "                    ha='center', va='bottom', fontsize=10)\n",
    "\n",
    "# Show plot\n",
    "plt.tight_layout()\n",
    "plt.show()\n"
   ]
  },
  {
   "cell_type": "code",
   "execution_count": null,
   "id": "3a14dfa4-aac1-45de-bfde-3d25cc897f35",
   "metadata": {},
   "outputs": [],
   "source": []
  }
 ],
 "metadata": {
  "kernelspec": {
   "display_name": "Python 3 (ipykernel)",
   "language": "python",
   "name": "python3"
  },
  "language_info": {
   "codemirror_mode": {
    "name": "ipython",
    "version": 3
   },
   "file_extension": ".py",
   "mimetype": "text/x-python",
   "name": "python",
   "nbconvert_exporter": "python",
   "pygments_lexer": "ipython3",
   "version": "3.12.1"
  }
 },
 "nbformat": 4,
 "nbformat_minor": 5
}
